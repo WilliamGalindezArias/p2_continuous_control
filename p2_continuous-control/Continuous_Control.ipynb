{
 "cells": [
  {
   "cell_type": "markdown",
   "metadata": {},
   "source": [
    "# Continuous Control\n",
    "\n",
    "---\n",
    "\n",
    "In this notebook, you will learn how to use the Unity ML-Agents environment for the second project of the [Deep Reinforcement Learning Nanodegree](https://www.udacity.com/course/deep-reinforcement-learning-nanodegree--nd893) program.\n",
    "\n",
    "### 1. Start the Environment\n",
    "\n",
    "We begin by importing the necessary packages.  If the code cell below returns an error, please revisit the project instructions to double-check that you have installed [Unity ML-Agents](https://github.com/Unity-Technologies/ml-agents/blob/master/docs/Installation.md) and [NumPy](http://www.numpy.org/)."
   ]
  },
  {
   "cell_type": "code",
   "execution_count": 1,
   "metadata": {},
   "outputs": [],
   "source": [
    "from unityagents import UnityEnvironment\n",
    "import numpy as np"
   ]
  },
  {
   "cell_type": "markdown",
   "metadata": {},
   "source": [
    "Next, we will start the environment!  **_Before running the code cell below_**, change the `file_name` parameter to match the location of the Unity environment that you downloaded.\n",
    "\n",
    "- **Mac**: `\"path/to/Reacher.app\"`\n",
    "- **Windows** (x86): `\"path/to/Reacher_Windows_x86/Reacher.exe\"`\n",
    "- **Windows** (x86_64): `\"path/to/Reacher_Windows_x86_64/Reacher.exe\"`\n",
    "- **Linux** (x86): `\"path/to/Reacher_Linux/Reacher.x86\"`\n",
    "- **Linux** (x86_64): `\"path/to/Reacher_Linux/Reacher.x86_64\"`\n",
    "- **Linux** (x86, headless): `\"path/to/Reacher_Linux_NoVis/Reacher.x86\"`\n",
    "- **Linux** (x86_64, headless): `\"path/to/Reacher_Linux_NoVis/Reacher.x86_64\"`\n",
    "\n",
    "For instance, if you are using a Mac, then you downloaded `Reacher.app`.  If this file is in the same folder as the notebook, then the line below should appear as follows:\n",
    "```\n",
    "env = UnityEnvironment(file_name=\"Reacher.app\")\n",
    "```"
   ]
  },
  {
   "cell_type": "code",
   "execution_count": 2,
   "metadata": {},
   "outputs": [
    {
     "name": "stderr",
     "output_type": "stream",
     "text": [
      "INFO:unityagents:\n",
      "'Academy' started successfully!\n",
      "Unity Academy name: Academy\n",
      "        Number of Brains: 1\n",
      "        Number of External Brains : 1\n",
      "        Lesson number : 0\n",
      "        Reset Parameters :\n",
      "\t\tgoal_speed -> 1.0\n",
      "\t\tgoal_size -> 5.0\n",
      "Unity brain name: ReacherBrain\n",
      "        Number of Visual Observations (per agent): 0\n",
      "        Vector Observation space type: continuous\n",
      "        Vector Observation space size (per agent): 33\n",
      "        Number of stacked Vector Observation: 1\n",
      "        Vector Action space type: continuous\n",
      "        Vector Action space size (per agent): 4\n",
      "        Vector Action descriptions: , , , \n"
     ]
    }
   ],
   "source": [
    "env = UnityEnvironment(file_name='Reacher.app')\n"
   ]
  },
  {
   "cell_type": "markdown",
   "metadata": {},
   "source": [
    "Environments contain **_brains_** which are responsible for deciding the actions of their associated agents. Here we check for the first brain available, and set it as the default brain we will be controlling from Python."
   ]
  },
  {
   "cell_type": "code",
   "execution_count": 3,
   "metadata": {},
   "outputs": [],
   "source": [
    "# get the default brain\n",
    "brain_name = env.brain_names[0]\n",
    "brain = env.brains[brain_name]"
   ]
  },
  {
   "cell_type": "markdown",
   "metadata": {},
   "source": [
    "### 2. Examine the State and Action Spaces\n",
    "\n",
    "In this environment, a double-jointed arm can move to target locations. A reward of `+0.1` is provided for each step that the agent's hand is in the goal location. Thus, the goal of your agent is to maintain its position at the target location for as many time steps as possible.\n",
    "\n",
    "The observation space consists of `33` variables corresponding to position, rotation, velocity, and angular velocities of the arm.  Each action is a vector with four numbers, corresponding to torque applicable to two joints.  Every entry in the action vector must be a number between `-1` and `1`.\n",
    "\n",
    "Run the code cell below to print some information about the environment."
   ]
  },
  {
   "cell_type": "code",
   "execution_count": 4,
   "metadata": {},
   "outputs": [
    {
     "name": "stdout",
     "output_type": "stream",
     "text": [
      "Number of agents: 20\n",
      "Size of each action: 4\n",
      "There are 20 agents. Each observes a state with length: 33\n",
      "The state for the first agent looks like: [ 0.00000000e+00 -4.00000000e+00  0.00000000e+00  1.00000000e+00\n",
      " -0.00000000e+00 -0.00000000e+00 -4.37113883e-08  0.00000000e+00\n",
      "  0.00000000e+00  0.00000000e+00  0.00000000e+00  0.00000000e+00\n",
      "  0.00000000e+00  0.00000000e+00 -1.00000000e+01  0.00000000e+00\n",
      "  1.00000000e+00 -0.00000000e+00 -0.00000000e+00 -4.37113883e-08\n",
      "  0.00000000e+00  0.00000000e+00  0.00000000e+00  0.00000000e+00\n",
      "  0.00000000e+00  0.00000000e+00  5.75471878e+00 -1.00000000e+00\n",
      "  5.55726624e+00  0.00000000e+00  1.00000000e+00  0.00000000e+00\n",
      " -1.68164849e-01]\n"
     ]
    }
   ],
   "source": [
    "# reset the environment\n",
    "env_info = env.reset(train_mode=True)[brain_name]\n",
    "\n",
    "# number of agents\n",
    "num_agents = len(env_info.agents)\n",
    "print('Number of agents:', num_agents)\n",
    "\n",
    "# size of each action\n",
    "action_size = brain.vector_action_space_size\n",
    "print('Size of each action:', action_size)\n",
    "\n",
    "# examine the state space \n",
    "states = env_info.vector_observations\n",
    "state_size = states.shape[1]\n",
    "print('There are {} agents. Each observes a state with length: {}'.format(states.shape[0], state_size))\n",
    "print('The state for the first agent looks like:', states[0])"
   ]
  },
  {
   "cell_type": "markdown",
   "metadata": {},
   "source": [
    "### 3. Take Random Actions in the Environment\n",
    "\n",
    "In the next code cell, you will learn how to use the Python API to control the agent and receive feedback from the environment.\n",
    "\n",
    "Once this cell is executed, you will watch the agent's performance, if it selects an action at random with each time step.  A window should pop up that allows you to observe the agent, as it moves through the environment.  \n",
    "\n",
    "Of course, as part of the project, you'll have to change the code so that the agent is able to use its experience to gradually choose better actions when interacting with the environment!"
   ]
  },
  {
   "cell_type": "code",
   "execution_count": null,
   "metadata": {},
   "outputs": [],
   "source": [
    "env_info = env.reset(train_mode=False)[brain_name]     # reset the environment    \n",
    "states = env_info.vector_observations                  # get the current state (for each agent)\n",
    "scores = np.zeros(num_agents)                          # initialize the score (for each agent)\n",
    "while True:\n",
    "    actions = np.random.randn(num_agents, action_size) # select an action (for each agent)\n",
    "    actions = np.clip(actions, -1, 1)                  # all actions between -1 and 1\n",
    "    env_info = env.step(actions)[brain_name]           # send all actions to tne environment\n",
    "    next_states = env_info.vector_observations         # get next state (for each agent)\n",
    "    rewards = env_info.rewards                         # get reward (for each agent)\n",
    "    dones = env_info.local_done                        # see if episode finished\n",
    "    scores += env_info.rewards                         # update the score (for each agent)\n",
    "    states = next_states                               # roll over states to next time step\n",
    "    if np.any(dones):                                  # exit loop if episode finished\n",
    "        break\n",
    "print('Total score (averaged over agents) this episode: {}'.format(np.mean(scores)))"
   ]
  },
  {
   "cell_type": "markdown",
   "metadata": {},
   "source": [
    "When finished, you can close the environment."
   ]
  },
  {
   "cell_type": "code",
   "execution_count": null,
   "metadata": {},
   "outputs": [],
   "source": [
    "#env.close()"
   ]
  },
  {
   "cell_type": "markdown",
   "metadata": {},
   "source": [
    "### 4. It's Your Turn!\n",
    "\n",
    "Now it's your turn to train your own agent to solve the environment!  When training the environment, set `train_mode=True`, so that the line for resetting the environment looks like the following:\n",
    "```python\n",
    "env_info = env.reset(train_mode=True)[brain_name]\n",
    "```"
   ]
  },
  {
   "cell_type": "markdown",
   "metadata": {},
   "source": [
    "### Solution"
   ]
  },
  {
   "cell_type": "markdown",
   "metadata": {},
   "source": [
    "#### dependencies"
   ]
  },
  {
   "cell_type": "code",
   "execution_count": 5,
   "metadata": {},
   "outputs": [],
   "source": [
    "import matplotlib.pyplot as plt\n",
    "from collections import deque\n",
    "import numpy as np\n",
    "import random\n",
    "import torch\n"
   ]
  },
  {
   "cell_type": "code",
   "execution_count": 7,
   "metadata": {},
   "outputs": [],
   "source": [
    "# Agent\n",
    "\n",
    "from ddpg_agent import Agent"
   ]
  },
  {
   "cell_type": "code",
   "execution_count": 9,
   "metadata": {},
   "outputs": [],
   "source": [
    "# agent instantiation \n",
    "agent = Agent(state_size = state_size, action_size = action_size, num_agents = num_agents, random_seed = 0)"
   ]
  },
  {
   "cell_type": "code",
   "execution_count": 8,
   "metadata": {},
   "outputs": [],
   "source": [
    "# training function "
   ]
  },
  {
   "cell_type": "code",
   "execution_count": 9,
   "metadata": {},
   "outputs": [],
   "source": [
    "def ddpg(n_episodes=2000, max_t=100,  maxlen=100, print_every=100):\n",
    "    scores = []\n",
    "    scores_deque = deque(maxlen=maxlen)\n",
    "    \n",
    "    for i_episode in range(1, n_episodes+1):\n",
    "        env_info = env.reset(train_mode=True)[brain_name]\n",
    "        states = env_info.vector_observations\n",
    "        score = np.zeros(num_agents)\n",
    "        agent.reset()\n",
    "        \n",
    "        \n",
    "        while True:\n",
    "            actions = agent.act(states)\n",
    "            env_info = env.step(actions)[brain_name]\n",
    "            next_states = env_info.vector_observations\n",
    "            rewards = env_info.rewards\n",
    "            dones = env_info.local_done\n",
    "            agent.step(states, actions, rewards, next_states, dones)\n",
    "            score += env_info.rewards\n",
    "            states = next_states\n",
    "            if np.any(dones):\n",
    "                break\n",
    "        scores_deque.append(np.mean(score))\n",
    "        scores.append(np.mean(score))\n",
    "        \n",
    "        print('\\rEpisode {}\\tAverage Score: {:.2f}\\tScore: {:.2f}'.format(i_episode, np.mean(scores_deque), np.mean(score)), end=\"\")\n",
    "        if i_episode % print_every == 0:\n",
    "            print('\\rEpisode {}\\tAverage Score: {:.2f}'.format(i_episode, np.mean(scores_deque)))\n",
    "            \n",
    "        if np.mean(scores_deque) >= 30.0:\n",
    "            torch.save(agent.actor_local.state_dict(), 'checkpoint_actor.pth')\n",
    "            torch.save(agent.critic_local.state_dict(), 'checkpoint_critic.pth')\n",
    "            print(f'Environment solved in {i_episode-100} episodes, Average Score: {scores_deque}')\n",
    "            break\n",
    "            \n",
    "    return scores\n",
    "        \n",
    "        "
   ]
  },
  {
   "cell_type": "code",
   "execution_count": 10,
   "metadata": {},
   "outputs": [
    {
     "name": "stdout",
     "output_type": "stream",
     "text": [
      "Episode 100\tAverage Score: 26.42\tScore: 35.44\n",
      "Episode 111\tAverage Score: 30.33\tScore: 35.86Environment solved in 11 episodes, Average Score: deque([1.2069999730214476, 1.6069999640807509, 1.8194999593310057, 2.0389999544247983, 2.4604999450035394, 3.074999931268394, 3.021999932453036, 4.046499909553677, 2.971499933581799, 4.097499908413738, 5.75549987135455, 7.095499841403216, 7.7159998275339605, 9.39899978991598, 11.415999744832515, 12.936499710846693, 16.033499641623347, 18.118499595019966, 17.800999602116644, 23.049499484803526, 25.004999441094697, 27.679999381303787, 28.687499358784407, 29.33949934421107, 31.118999304436148, 32.52699927296489, 34.58749922690913, 36.34549918761477, 36.04849919425324, 37.429999163374305, 37.892499153036624, 38.12049914794043, 38.10649914825335, 37.71699915695935, 37.71149915708229, 37.567999160289766, 37.048999171890316, 37.783999155461785, 36.561999182775615, 36.82349917693064, 36.00499919522554, 36.615999181568625, 37.1024991706945, 37.83499915432185, 37.704999157227576, 37.593999159708616, 37.06149917161092, 37.13999916985631, 37.273999166861174, 36.50799918398261, 36.692499179858714, 35.14799921438098, 35.73749920120463, 35.96299919616431, 35.38299920912832, 35.784499200154094, 34.30599923320115, 36.89449917534366, 37.49349916195497, 36.76349917827174, 37.315999165922406, 36.224999190308154, 36.88549917554483, 36.68649917999282, 36.70299917962402, 35.17549921376631, 33.43449925268069, 36.006499195192006, 36.69699917975813, 36.540999183245006, 35.42349920822308, 34.65699922535568, 36.311499188374725, 35.97199919596314, 36.53299918342382, 37.28649916658178, 35.57599920481444, 37.04799917191267, 36.193999191001055, 36.466499184910205, 37.0484991719015, 37.25399916730821, 36.790499177668245, 36.0124991950579, 37.07049917140976, 35.77599920034409, 36.561999182775615, 36.56899918261915, 35.44399920776486, 36.234999190084636, 35.34699920993298, 36.73549917889759, 36.26049918951467, 36.7729991780594, 36.18799919113517, 36.457499185111374, 36.59149918211624, 36.8414991765283, 37.06649917149916, 35.857999198511244], maxlen=100)\n"
     ]
    }
   ],
   "source": [
    "# function calling\n",
    "scores = ddpg()"
   ]
  },
  {
   "cell_type": "code",
   "execution_count": 12,
   "metadata": {},
   "outputs": [],
   "source": [
    "deque_list = [1.2069999730214476, 1.6069999640807509, 1.8194999593310057, 2.0389999544247983, 2.4604999450035394, 3.074999931268394, 3.021999932453036, 4.046499909553677, 2.971499933581799, 4.097499908413738, 5.75549987135455, 7.095499841403216, 7.7159998275339605, 9.39899978991598, 11.415999744832515, 12.936499710846693, 16.033499641623347, 18.118499595019966, 17.800999602116644, 23.049499484803526, 25.004999441094697, 27.679999381303787, 28.687499358784407, 29.33949934421107, 31.118999304436148, 32.52699927296489, 34.58749922690913, 36.34549918761477, 36.04849919425324, 37.429999163374305, 37.892499153036624, 38.12049914794043, 38.10649914825335, 37.71699915695935, 37.71149915708229, 37.567999160289766, 37.048999171890316, 37.783999155461785, 36.561999182775615, 36.82349917693064, 36.00499919522554, 36.615999181568625, 37.1024991706945, 37.83499915432185, 37.704999157227576, 37.593999159708616, 37.06149917161092, 37.13999916985631, 37.273999166861174, 36.50799918398261, 36.692499179858714, 35.14799921438098, 35.73749920120463, 35.96299919616431, 35.38299920912832, 35.784499200154094, 34.30599923320115, 36.89449917534366, 37.49349916195497, 36.76349917827174, 37.315999165922406, 36.224999190308154, 36.88549917554483, 36.68649917999282, 36.70299917962402, 35.17549921376631, 33.43449925268069, 36.006499195192006, 36.69699917975813, 36.540999183245006, 35.42349920822308, 34.65699922535568, 36.311499188374725, 35.97199919596314, 36.53299918342382, 37.28649916658178, 35.57599920481444, 37.04799917191267, 36.193999191001055, 36.466499184910205, 37.0484991719015, 37.25399916730821, 36.790499177668245, 36.0124991950579, 37.07049917140976, 35.77599920034409, 36.561999182775615, 36.56899918261915, 35.44399920776486, 36.234999190084636, 35.34699920993298, 36.73549917889759, 36.26049918951467, 36.7729991780594, 36.18799919113517, 36.457499185111374, 36.59149918211624, 36.8414991765283, 37.06649917149916, 35.857999198511244]"
   ]
  },
  {
   "cell_type": "code",
   "execution_count": 16,
   "metadata": {},
   "outputs": [
    {
     "name": "stdout",
     "output_type": "stream",
     "text": [
      "Environment solved in 11 episodes, Avaerage score 30.327969322117053\n"
     ]
    }
   ],
   "source": [
    "print(f'Environment solved in 11 episodes, Average score {np.mean(deque_list)}')"
   ]
  },
  {
   "cell_type": "code",
   "execution_count": 17,
   "metadata": {},
   "outputs": [
    {
     "data": {
      "image/png": "[encoded data removed]",
      "text/plain": [
       "<Figure size 432x288 with 1 Axes>"
      ]
     },
     "metadata": {
      "needs_background": "light"
     },
     "output_type": "display_data"
    }
   ],
   "source": [
    "fig = plt.figure()\n",
    "ax = fig.add_subplot(111)\n",
    "plt.plot(np.arange(1, len(scores)+1), scores)\n",
    "plt.ylabel('Score')\n",
    "plt.xlabel('Episode #')\n",
    "plt.show()"
   ]
  },
  {
   "cell_type": "markdown",
   "metadata": {},
   "source": [
    "### Trained agent"
   ]
  },
  {
   "cell_type": "code",
   "execution_count": 10,
   "metadata": {
    "collapsed": true,
    "jupyter": {
     "outputs_hidden": true
    },
    "tags": []
   },
   "outputs": [
    {
     "data": {
      "text/plain": [
       "OrderedDict([('fcs1.weight',\n",
       "              tensor([[-3.4484e-02,  4.0698e-02,  1.8745e-02,  ..., -3.4630e-02,\n",
       "                        1.5230e-02, -1.9624e-02],\n",
       "                      [-1.6438e-02, -1.0840e-02, -3.1831e-02,  ..., -1.6233e-02,\n",
       "                        4.7095e-02,  2.6114e-02],\n",
       "                      [ 1.5521e-02, -3.7615e-02,  2.9927e-02,  ...,  2.8646e-02,\n",
       "                       -3.6226e-02,  4.1519e-02],\n",
       "                      ...,\n",
       "                      [ 2.7129e-02,  8.5879e-03, -1.5778e-03,  ...,  2.4524e-03,\n",
       "                        6.5304e-03, -3.5688e-02],\n",
       "                      [-4.0225e-02,  2.7878e-03, -4.3699e-02,  ...,  2.9153e-02,\n",
       "                        5.8747e-03,  2.0124e-02],\n",
       "                      [-4.7653e-02,  1.4195e-02,  3.0660e-02,  ..., -9.3771e-03,\n",
       "                       -1.0931e-02,  8.0280e-03]])),\n",
       "             ('fcs1.bias',\n",
       "              tensor([-0.0804, -0.0718,  0.1695,  0.0276, -0.1480, -0.1546, -0.1497,\n",
       "                      -0.1263, -0.1051, -0.0927,  0.1294, -0.0714,  0.1601, -0.0398,\n",
       "                      -0.1406, -0.0638, -0.0772, -0.1197, -0.1624,  0.0061, -0.1351,\n",
       "                      -0.0501, -0.0458, -0.1005, -0.0066, -0.1349, -0.0566,  0.1541,\n",
       "                       0.1610,  0.0140,  0.0405,  0.1546,  0.1672, -0.0821,  0.0275,\n",
       "                      -0.0344, -0.1194,  0.1545,  0.1381,  0.0075,  0.1435,  0.0465,\n",
       "                       0.1149,  0.0737,  0.0824,  0.0621,  0.0874,  0.1530,  0.0681,\n",
       "                      -0.1110,  0.0640,  0.1738,  0.1443,  0.1098, -0.0660,  0.1720,\n",
       "                       0.0318, -0.0936, -0.0065,  0.1265, -0.1599, -0.0399,  0.1298,\n",
       "                      -0.0480, -0.0703, -0.0469,  0.0570, -0.1343,  0.0220,  0.0447,\n",
       "                       0.0460, -0.0035,  0.0857, -0.0103,  0.1350,  0.1152, -0.1203,\n",
       "                      -0.0340,  0.1354, -0.0175, -0.0532, -0.0109, -0.0400, -0.0607,\n",
       "                       0.0385,  0.1467,  0.0252,  0.0979,  0.1344, -0.1133, -0.1238,\n",
       "                      -0.0257,  0.0519, -0.0211, -0.0816, -0.1198,  0.0051,  0.1295,\n",
       "                       0.0075,  0.1658, -0.0824,  0.1607, -0.1116,  0.1383,  0.0190,\n",
       "                       0.1731,  0.1657, -0.0596, -0.0127, -0.0473,  0.0387, -0.0858,\n",
       "                      -0.0405, -0.1055,  0.1060,  0.1375,  0.0192, -0.0053, -0.1306,\n",
       "                      -0.1586, -0.1343, -0.1289, -0.1432,  0.0816, -0.1328,  0.0834,\n",
       "                       0.1158, -0.0007,  0.0412,  0.1086, -0.1579,  0.1504,  0.1714,\n",
       "                       0.1661, -0.0680,  0.1069, -0.0640,  0.0271,  0.1456,  0.0365,\n",
       "                       0.0637, -0.0463, -0.0826,  0.1420, -0.1571,  0.0304, -0.0168,\n",
       "                      -0.0490, -0.1701, -0.1035, -0.0994,  0.0262,  0.0679, -0.1582,\n",
       "                      -0.0669, -0.1660,  0.1190, -0.1599, -0.0233, -0.0248, -0.0954,\n",
       "                       0.1251,  0.0745,  0.0908,  0.1227, -0.0869,  0.0842,  0.1407,\n",
       "                      -0.0400, -0.0142,  0.0165, -0.1709, -0.0185, -0.0208, -0.1266,\n",
       "                       0.1273, -0.1532, -0.0697,  0.1025,  0.0270,  0.0706,  0.0075,\n",
       "                      -0.1620, -0.1250, -0.0589, -0.1172, -0.1084, -0.0563,  0.1552,\n",
       "                       0.1349,  0.0350, -0.1117, -0.1049,  0.1705,  0.0216,  0.0197,\n",
       "                      -0.0987, -0.0889,  0.0856, -0.0149, -0.0182, -0.0858, -0.1290,\n",
       "                      -0.1123, -0.1714,  0.1594,  0.0256,  0.0244,  0.1307,  0.0875,\n",
       "                      -0.0254,  0.1078,  0.0028, -0.1697,  0.1411, -0.1026, -0.1315,\n",
       "                      -0.0402,  0.0425,  0.1369, -0.1723, -0.1629, -0.1160, -0.1017,\n",
       "                       0.1712, -0.0027,  0.1263,  0.0491,  0.1017, -0.0903,  0.0758,\n",
       "                       0.0632,  0.0599, -0.1307, -0.0600,  0.1479, -0.0381, -0.1265,\n",
       "                      -0.1474, -0.0353,  0.0806, -0.0514,  0.1242,  0.0742, -0.1393,\n",
       "                       0.0018,  0.1587,  0.1083, -0.0625, -0.1292,  0.0452,  0.0836,\n",
       "                      -0.0358, -0.1485,  0.1682,  0.0841, -0.1733,  0.0077, -0.0391,\n",
       "                       0.1615,  0.0919,  0.0461, -0.0513, -0.1283,  0.0544,  0.0704,\n",
       "                       0.0037,  0.1530,  0.0999, -0.1455, -0.0096, -0.0776, -0.0080,\n",
       "                       0.0159,  0.0214,  0.1067,  0.1200,  0.0092, -0.0654, -0.0867,\n",
       "                       0.0902,  0.0630,  0.1475, -0.1468, -0.1329, -0.1042,  0.0768,\n",
       "                       0.1354, -0.0140, -0.1457,  0.0277, -0.1497,  0.1112, -0.1307,\n",
       "                       0.0253,  0.0019,  0.0876, -0.1206,  0.0781,  0.0048,  0.0213,\n",
       "                      -0.1181,  0.1645, -0.0314, -0.1014, -0.0488, -0.0517,  0.1731,\n",
       "                       0.1275,  0.0008,  0.1677, -0.0010,  0.0205,  0.0315, -0.0159,\n",
       "                      -0.1317,  0.0518, -0.0135,  0.0688,  0.0963,  0.1261,  0.0465,\n",
       "                       0.0087, -0.0750,  0.1630, -0.1541, -0.0910,  0.0218,  0.0836,\n",
       "                       0.1010, -0.1539,  0.0605, -0.1448,  0.1233, -0.1479,  0.0309,\n",
       "                       0.0287, -0.0371,  0.0789,  0.1200,  0.0606,  0.0365,  0.1705,\n",
       "                       0.1644, -0.1199,  0.1567,  0.1522,  0.0006,  0.0581, -0.0703,\n",
       "                      -0.0678,  0.0287, -0.0775,  0.0453,  0.0736,  0.1019, -0.1241,\n",
       "                      -0.0882, -0.0304,  0.0697, -0.0702, -0.0823, -0.0411,  0.0594,\n",
       "                       0.0071, -0.0437,  0.0442, -0.1306, -0.1670,  0.0984,  0.1557,\n",
       "                      -0.0062,  0.0909,  0.1226,  0.1493,  0.0135, -0.0163, -0.1670,\n",
       "                      -0.0118, -0.0493, -0.0052,  0.1665, -0.0566, -0.1412,  0.1584,\n",
       "                       0.0082, -0.1129,  0.0076, -0.0028,  0.0576,  0.1609, -0.0954,\n",
       "                      -0.1014, -0.0113,  0.0965,  0.1734, -0.1117, -0.0830, -0.0116,\n",
       "                      -0.1436])),\n",
       "             ('fc2.weight',\n",
       "              tensor([[ 4.3903e-02, -4.1915e-02, -2.5049e-02,  ..., -1.9080e-02,\n",
       "                       -4.4551e-02,  2.6746e-02],\n",
       "                      [ 2.0958e-03, -4.3686e-02,  2.9502e-02,  ...,  3.4327e-02,\n",
       "                       -1.9854e-02, -5.2365e-02],\n",
       "                      [ 1.7065e-02, -4.6171e-02,  1.0033e-02,  ...,  4.9270e-02,\n",
       "                        3.2234e-02,  1.6935e-02],\n",
       "                      ...,\n",
       "                      [-1.9123e-02, -2.3325e-02,  3.6429e-02,  ...,  3.7512e-02,\n",
       "                       -5.7628e-02, -3.2879e-02],\n",
       "                      [-7.7917e-03, -1.7878e-02,  4.4827e-02,  ...,  2.0828e-02,\n",
       "                        3.5159e-02,  5.6362e-02],\n",
       "                      [-4.1067e-02, -5.5367e-02,  5.6222e-02,  ...,  4.3703e-02,\n",
       "                       -8.3455e-03,  1.0809e-02]])),\n",
       "             ('fc2.bias',\n",
       "              tensor(1.00000e-02 *\n",
       "                     [-1.4915,  4.2431, -4.8264, -2.1400,  1.1780,  2.2707,  2.7464,\n",
       "                      -2.8737,  3.2659, -3.5901,  4.5734,  4.8285, -1.5786,  2.6990,\n",
       "                      -3.9559, -1.1618,  1.1048, -4.5642, -2.7401, -0.1785,  4.3782,\n",
       "                      -2.9789, -0.2220, -4.4690, -2.8910, -2.0026, -2.0971,  0.2432,\n",
       "                       3.5822,  0.9196,  1.3836, -2.1271, -4.3731, -2.4868,  0.6373,\n",
       "                      -3.4749,  3.2960, -2.8771, -2.3889, -0.8972, -4.5710, -3.6291,\n",
       "                       2.0434,  0.5718, -3.0888, -2.4501, -4.7138,  2.3671,  4.3568,\n",
       "                      -3.6823,  1.7592, -1.3399,  3.5559,  1.9368, -0.1646,  4.8136,\n",
       "                       2.6199, -3.2232, -3.6871,  4.4071,  2.0096,  4.4048, -1.3879,\n",
       "                       2.4288,  0.4957,  4.8662,  1.4669, -4.7753, -1.7713,  1.2310,\n",
       "                      -2.1965, -2.4281, -3.7842,  4.5050, -3.9590, -2.4739,  0.3338,\n",
       "                      -3.7796,  0.2806,  1.9407,  4.6846,  3.5895,  0.6768,  4.9617,\n",
       "                      -2.4623, -4.7119, -4.7798,  3.5827,  3.6474, -3.1083, -1.4979,\n",
       "                       0.0067,  0.6203, -2.0929,  0.3407, -3.4912,  4.1627, -0.6653,\n",
       "                      -4.1970, -0.1395, -0.2156, -1.0768, -0.8094,  1.3896,  3.6794,\n",
       "                      -0.2703,  4.2989, -3.2084, -0.0149,  1.2752,  4.8421,  3.8741,\n",
       "                      -4.2593, -0.7018,  2.0669, -1.0948, -3.4435,  2.7019,  3.4106,\n",
       "                       2.2864, -1.9620,  0.8690,  3.7970,  3.3789, -1.6109,  2.9228,\n",
       "                      -2.6588, -0.2844,  4.0835, -3.0318, -2.4537,  2.0284,  0.6993,\n",
       "                      -2.1044, -3.4131, -1.0319, -4.7051, -3.0334, -2.2358,  2.6075,\n",
       "                      -0.7750,  3.8362, -4.3191,  2.5851,  2.0966, -0.3763, -0.9374,\n",
       "                       0.0206, -4.0782,  1.1210, -4.7177,  2.1457,  1.5065, -2.3038,\n",
       "                      -1.9144, -4.3637, -2.9684,  2.2604, -3.0488,  0.7249, -4.1867,\n",
       "                      -3.9097,  1.1672, -3.2361, -2.7531,  1.0240, -2.0459,  1.6062,\n",
       "                      -3.3925, -1.2839,  2.2901,  1.4627,  3.7229, -4.9045, -3.8709,\n",
       "                      -0.5739, -3.4451,  3.4618,  3.2044, -0.4772, -4.4999, -1.7978,\n",
       "                      -1.6388, -2.3151, -4.9317,  3.0538,  2.7909, -2.8399,  0.6826,\n",
       "                       0.9770,  2.9218,  0.0891,  3.8818,  1.0802,  1.2654,  2.7471,\n",
       "                      -0.5134,  0.7960, -4.8012,  1.4680, -0.3495,  0.8576,  1.2178,\n",
       "                       0.2237, -2.0828, -0.6286,  3.8010,  2.9608,  0.8423, -1.4464,\n",
       "                      -4.8907,  2.6877,  3.8508,  0.8246, -4.3384, -4.4059, -1.1906,\n",
       "                      -2.1030, -2.0145,  3.5877, -2.4759, -4.1967, -0.7597, -4.0207,\n",
       "                       2.7439,  2.2566,  2.2812, -1.0733, -2.2543,  4.3023,  3.1185,\n",
       "                       4.6899,  4.1656,  2.3751,  3.9421, -1.0684, -4.6480,  2.3333,\n",
       "                      -1.6348, -2.7661, -4.3532, -0.6746,  3.5423,  3.2760, -4.2189,\n",
       "                      -3.4721, -2.7218,  0.9650,  1.9113,  3.5105, -4.5593, -0.7605,\n",
       "                       1.8661,  3.5638, -2.4168,  2.9808, -2.3933,  4.7335, -4.2565,\n",
       "                       0.5055, -2.8521,  3.2696, -0.9975,  3.7376,  1.2046, -2.0457,\n",
       "                       3.1190,  1.2258, -4.5370, -3.0701, -2.3532, -1.5315, -4.2653,\n",
       "                      -2.5080, -4.4453,  3.8510, -3.8867,  0.0407,  1.9603, -3.5709,\n",
       "                      -1.5718, -1.8142, -4.2674,  1.7299,  4.6735, -3.8588, -2.9543,\n",
       "                      -2.1162,  2.7129,  3.3914,  1.6390, -0.4844, -3.4867,  1.7744,\n",
       "                      -4.1354,  2.9405,  1.2474, -4.5973,  2.2940,  4.8829])),\n",
       "             ('fc3.weight',\n",
       "              tensor(1.00000e-03 *\n",
       "                     [[-2.1602, -0.1568,  0.1543,  1.4392, -2.4587, -1.9855,  0.8630,\n",
       "                       -2.8679, -1.2769, -2.2969, -1.1625,  0.6397, -2.4717,  2.2322,\n",
       "                        2.2422,  2.9160, -0.3406,  2.2228, -2.9321, -0.9148, -1.2267,\n",
       "                        2.3387, -0.5801,  0.2378, -1.1604, -1.0112, -2.9429, -2.6257,\n",
       "                        0.6799, -0.1964, -2.7913,  1.7306,  0.6910,  1.9277, -1.9295,\n",
       "                        0.1539,  2.6598,  0.7855, -0.6609,  0.0479, -2.7455,  0.8274,\n",
       "                       -2.4946,  2.9572, -1.8807, -0.9175, -1.1961,  0.9522, -2.9802,\n",
       "                       -1.9764,  2.8506,  1.2664,  2.7771, -0.1780, -0.0030,  2.8314,\n",
       "                       -1.6562,  2.9051, -2.6921,  2.9766,  0.9214, -2.8137, -1.8241,\n",
       "                       -0.8893,  2.8363,  0.7285, -2.4464,  1.9790,  2.2330, -1.9409,\n",
       "                       -0.1345, -2.3335,  1.1722,  1.8763,  0.3628, -0.6283, -1.7726,\n",
       "                       -0.9923, -1.1900,  2.5571,  2.2081,  1.1965, -0.3472,  2.0146,\n",
       "                       -2.6388,  1.9525, -0.5716,  1.9960,  2.1500,  0.1850, -1.4909,\n",
       "                        0.9833, -0.4583,  2.0357,  2.0746,  0.4491,  1.8287,  2.1136,\n",
       "                       -0.0716, -2.0145, -2.6306, -1.7370,  1.9049, -0.7742,  1.7206,\n",
       "                       -2.6873, -2.7896,  1.9265, -0.6442,  1.2943, -2.9991, -1.6298,\n",
       "                        0.4222, -1.0735, -2.3371, -0.9660, -1.6805,  1.9949, -0.0783,\n",
       "                        2.9211,  1.7620, -0.8566,  0.3738, -2.9344,  2.2557,  2.3992,\n",
       "                       -2.4328, -0.4135,  1.0723, -1.6723, -0.4888, -1.3437, -1.6314,\n",
       "                       -0.2119,  0.3351, -2.4947, -2.2018, -1.8621,  2.6588,  0.1109,\n",
       "                        1.4239, -0.7761, -1.7568,  1.2066,  1.9608,  2.5422,  2.4843,\n",
       "                       -0.1317, -1.2545,  0.2187,  1.1687, -0.7742, -0.9046,  0.5418,\n",
       "                        2.5444,  0.6208,  2.7872, -1.2381,  1.1733,  0.0199,  2.7919,\n",
       "                       -0.2813,  0.6361,  0.2511, -0.1849, -1.8479, -0.9862,  2.6276,\n",
       "                        1.2928, -1.5641, -1.4841, -1.0617,  2.7587, -0.9432, -2.5480,\n",
       "                        1.8667,  0.1456,  1.4219, -0.0567, -2.9674, -1.3321,  0.1784,\n",
       "                       -1.9538,  1.9685, -1.4734, -1.0056,  2.6409, -0.3519, -2.3682,\n",
       "                       -0.0022, -1.7001, -2.3435, -0.8364, -2.4286,  0.6820,  1.9733,\n",
       "                       -0.3231,  0.5808, -2.1243,  1.8289, -0.9584, -2.2283, -2.5455,\n",
       "                       -2.6821,  0.2015,  1.4053,  2.1768,  0.0893,  0.5953,  2.0563,\n",
       "                        2.4125,  1.7865,  0.4982,  1.8388, -0.1610,  0.1003, -0.1108,\n",
       "                        1.6928, -1.4782,  1.3342,  2.6902, -1.0544, -2.8195, -1.0660,\n",
       "                       -1.8409,  0.0799,  1.4311, -2.2151,  2.4898,  0.9935, -1.8197,\n",
       "                        2.5799,  2.4407, -1.7639, -0.2830, -2.9581,  1.4022, -2.7395,\n",
       "                       -2.6299, -0.0325,  0.9894,  2.3202, -0.3178, -2.6367, -2.8100,\n",
       "                        1.7532, -0.6147, -0.4802, -1.7753,  2.8879,  0.6860, -2.0988,\n",
       "                        1.5281,  1.0806, -1.4616,  0.1668,  0.7562, -1.9986,  1.3493,\n",
       "                        1.1910, -2.6471,  1.8484, -2.7591,  1.2158, -2.8544, -1.4500,\n",
       "                        2.3548, -2.9054, -0.7479,  2.3988, -2.7226,  1.5368, -1.2178,\n",
       "                        1.8638, -0.6702,  2.6690,  1.9835,  0.0925, -1.4135, -1.1935,\n",
       "                       -0.4754, -2.7046, -2.4138, -0.0796, -1.5060, -2.1273, -0.8555,\n",
       "                        2.3688, -0.3583,  2.7709, -0.7322, -1.9674, -1.1361, -1.5454,\n",
       "                        0.5452, -2.4254, -0.1423, -2.0544,  0.1290,  1.4091]])),\n",
       "             ('fc3.bias',\n",
       "              tensor(1.00000e-02 *\n",
       "                     [ 3.7656]))])"
      ]
     },
     "execution_count": 10,
     "metadata": {},
     "output_type": "execute_result"
    }
   ],
   "source": [
    "agent.actor_local.state_dict(torch.load('checkpoint_actor.pth'))\n",
    "agent.critic_local.state_dict(torch.load('checkpoint_critic.pth'))"
   ]
  },
  {
   "cell_type": "code",
   "execution_count": null,
   "metadata": {},
   "outputs": [],
   "source": [
    "\n",
    "env_info = env.reset(train_mode=False)[brain_name]\n",
    "states = env_info.vector_observations\n",
    "score = np.zeros(num_agents)\n",
    "agent.reset()\n",
    "\n",
    "while True:\n",
    "    actions = agent.act(states)\n",
    "    env_info = env.step(actions)[brain_name]\n",
    "    next_states = env_info.vector_observations\n",
    "    rewards = env_info.rewards\n",
    "    dones = env_info.local_done\n",
    "    score += rewards\n",
    "    states = next_states\n",
    "    \n",
    "    if np.any(dones):\n",
    "        break\n",
    "        \n",
    "print(f'Score {(score)}')\n"
   ]
  }
 ],
 "metadata": {
  "kernelspec": {
   "display_name": "Python 3",
   "language": "python",
   "name": "python3"
  },
  "language_info": {
   "codemirror_mode": {
    "name": "ipython",
    "version": 3
   },
   "file_extension": ".py",
   "mimetype": "text/x-python",
   "name": "python",
   "nbconvert_exporter": "python",
   "pygments_lexer": "ipython3",
   "version": "3.6.13"
  }
 },
 "nbformat": 4,
 "nbformat_minor": 4
}
